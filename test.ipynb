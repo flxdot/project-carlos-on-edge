{
  "cells": [
    {
      "cell_type": "code",
      "execution_count": 14,
      "outputs": [],
      "source": "import datetime\nfrom influxdb import InfluxDBClient\nimport random",
      "metadata": {
        "pycharm": {
          "metadata": false,
          "name": "#%%\n",
          "is_executing": false
        }
      }
    },
    {
      "cell_type": "code",
      "execution_count": 1,
      "metadata": {
        "collapsed": true,
        "pycharm": {
          "is_executing": false,
          "name": "#%%\n"
        }
      },
      "outputs": [],
      "source": "dbclient \u003d InfluxDBClient(host\u003d\u0027h2841460.stratoserver.net\u0027, port\u003d8086, username\u003d\u0027carlosdb\u0027, password\u003d\u0027vR66bhD7X7TeHZY\u0027)"
    },
    {
      "cell_type": "code",
      "execution_count": 45,
      "outputs": [],
      "source": "dbclient.drop_database(\u0027carlos_prototype_db\u0027)\ndbclient.create_database(\u0027carlos_prototype_db\u0027)",
      "metadata": {
        "pycharm": {
          "metadata": false,
          "name": "#%%\n",
          "is_executing": false
        }
      }
    },
    {
      "cell_type": "code",
      "execution_count": 18,
      "outputs": [],
      "source": "dbclient.switch_database(\u0027carlos_prototype_db\u0027)",
      "metadata": {
        "pycharm": {
          "metadata": false,
          "name": "#%%\n",
          "is_executing": false
        }
      }
    },
    {
      "cell_type": "code",
      "execution_count": 40,
      "outputs": [
        {
          "data": {
            "text/plain": "True"
          },
          "metadata": {},
          "output_type": "execute_result",
          "execution_count": 40
        }
      ],
      "source": "json_body \u003d [\n        {\n            \"measurement\": \"uv_light\",\n            \"tags\": {},\n            \"time\": str(datetime.datetime.now(datetime.timezone.utc)),\n            \"fields\": {\n                \"vis_lux\": random.random(),\n                \"ir_lux\": random.random(),\n                \"ur_idx\": random.random(),\n                \"vis_raw\": random.random(),\n                \"ir_raw\": random.random(),\n                \"ur_raw\": random.random(),\n            }\n        }\n    ]\ndbclient.write_points(json_body)",
      "metadata": {
        "pycharm": {
          "metadata": false,
          "name": "#%%\n",
          "is_executing": false
        }
      }
    },
    {
      "cell_type": "code",
      "source": "json_body \u003d [\n        {\n            \"measurement\": \"moisture_sensor\",\n            \"tags\": {},\n            \"time\": str(datetime.datetime.now(datetime.timezone.utc)),\n            \"fields\": {\n                \"voltage\": random.random(),\n                \"value\": random.random(),\n            }\n        }\n    ]\ndbclient.write_points(json_body)\n",
      "metadata": {
        "pycharm": {
          "metadata": false,
          "name": "#%%\n",
          "is_executing": false
        }
      },
      "execution_count": 44,
      "outputs": [
        {
          "data": {
            "text/plain": "True"
          },
          "metadata": {},
          "output_type": "execute_result",
          "execution_count": 44
        }
      ]
    },
    {
      "cell_type": "code",
      "execution_count": 20,
      "outputs": [],
      "source": "",
      "metadata": {
        "pycharm": {
          "metadata": false,
          "name": "#%%\n",
          "is_executing": false
        }
      }
    },
    {
      "cell_type": "code",
      "execution_count": null,
      "outputs": [],
      "source": "\n",
      "metadata": {
        "pycharm": {
          "metadata": false,
          "name": "#%%\n"
        }
      }
    }
  ],
  "metadata": {
    "language_info": {
      "codemirror_mode": {
        "name": "ipython",
        "version": 2
      },
      "file_extension": ".py",
      "mimetype": "text/x-python",
      "name": "python",
      "nbconvert_exporter": "python",
      "pygments_lexer": "ipython2",
      "version": "2.7.6"
    },
    "kernelspec": {
      "name": "python3",
      "language": "python",
      "display_name": "Python 3"
    },
    "stem_cell": {
      "cell_type": "raw",
      "source": "",
      "metadata": {
        "pycharm": {
          "metadata": false
        }
      }
    }
  },
  "nbformat": 4,
  "nbformat_minor": 0
}